{
 "cells": [
  {
   "cell_type": "markdown",
   "metadata": {
    "application/vnd.databricks.v1+cell": {
     "cellMetadata": {},
     "inputWidgets": {},
     "nuid": "0f3415b1-50e3-496f-a422-f5b2a9914f60",
     "showTitle": false,
     "title": ""
    }
   },
   "source": [
    "Q1. Write a function called divide_or_square that takes one argument (a number),\n",
    "and returns the square root of the number if it is divisible by 5, returns\n",
    "its remainder if it is not divisible by 5. For example, if you pass 10 as\n",
    "an argument, then your function should return 3.16 as the square root."
   ]
  },
  {
   "cell_type": "code",
   "execution_count": 0,
   "metadata": {
    "application/vnd.databricks.v1+cell": {
     "cellMetadata": {
      "byteLimit": 2048000,
      "rowLimit": 10000
     },
     "inputWidgets": {},
     "nuid": "5310ccd2-737f-4e18-96dd-e856c29d6b50",
     "showTitle": false,
     "title": ""
    }
   },
   "outputs": [
    {
     "output_type": "stream",
     "name": "stdout",
     "output_type": "stream",
     "text": [
      "9.487\n4\n3.873\n"
     ]
    }
   ],
   "source": [
    "from math import sqrt\n",
    "def divide_or_square(number):\n",
    "  if number%5==0:\n",
    "    return f'{sqrt(number):.3f}'\n",
    "  else:\n",
    "    return number%5\n",
    "print(divide_or_square(90))\n",
    "print(divide_or_square(4))\n",
    "print(divide_or_square(15))"
   ]
  },
  {
   "cell_type": "markdown",
   "metadata": {
    "application/vnd.databricks.v1+cell": {
     "cellMetadata": {},
     "inputWidgets": {},
     "nuid": "3e187028-746a-49fe-b432-9345f041fd3d",
     "showTitle": false,
     "title": ""
    }
   },
   "source": [
    "Q2.Write a function called convert_add that takes a list of strings as an argument and converts it to integers and sums the list. For example [\"1\", \"4\", \"9\"] should be converted to [1, 4, 9] and summed to 14"
   ]
  },
  {
   "cell_type": "code",
   "execution_count": 0,
   "metadata": {
    "application/vnd.databricks.v1+cell": {
     "cellMetadata": {
      "byteLimit": 2048000,
      "rowLimit": 10000
     },
     "inputWidgets": {},
     "nuid": "ee6ab2ab-1441-4653-a7cf-cea536731086",
     "showTitle": false,
     "title": ""
    }
   },
   "outputs": [
    {
     "output_type": "stream",
     "name": "stdout",
     "output_type": "stream",
     "text": [
      "14\n"
     ]
    }
   ],
   "source": [
    "def convert_add(list1):\n",
    "  total=0\n",
    "  for i in list1:\n",
    "    total+=int(i)\n",
    "  return total\n",
    "\n",
    "print(convert_add([\"1\",\"4\",\"9\"]))"
   ]
  },
  {
   "cell_type": "markdown",
   "metadata": {
    "application/vnd.databricks.v1+cell": {
     "cellMetadata": {},
     "inputWidgets": {},
     "nuid": "b5319b1b-33c4-4d69-92ac-3499471a5b39",
     "showTitle": false,
     "title": ""
    }
   },
   "source": [
    "Q3: Register Check Write a function called register_check that checks how many students are in school. The function takes a dictionary as a parameter. If the student is in school, the dictionary says ‘yes’. If the student is not in school, the dictionary says ‘no’. Your function should return the number of students in school. Use the dictionary below. Your function should return 3. register = {'Michael':'yes','John': 'no', 'Peter':'yes', 'Mary': 'yes'}"
   ]
  },
  {
   "cell_type": "code",
   "execution_count": 0,
   "metadata": {
    "application/vnd.databricks.v1+cell": {
     "cellMetadata": {
      "byteLimit": 2048000,
      "rowLimit": 10000
     },
     "inputWidgets": {},
     "nuid": "41e7e34a-4867-456f-823c-1ca6f1a1f525",
     "showTitle": false,
     "title": ""
    }
   },
   "outputs": [
    {
     "output_type": "stream",
     "name": "stdout",
     "output_type": "stream",
     "text": [
      "3\n"
     ]
    }
   ],
   "source": [
    "def register_check(register1):\n",
    "  count=0\n",
    "  for i in register1.values():\n",
    "    if i =='yes':\n",
    "      count+=1\n",
    "  return count\n",
    "\n",
    "\n",
    "register = {'Michael':'yes','John': 'no', 'Peter':'yes', 'Mary': 'yes'}\n",
    "print(register_check(register))"
   ]
  },
  {
   "cell_type": "markdown",
   "metadata": {
    "application/vnd.databricks.v1+cell": {
     "cellMetadata": {},
     "inputWidgets": {},
     "nuid": "a1496b29-d158-4cd8-af12-5e3bf5e82890",
     "showTitle": false,
     "title": ""
    }
   },
   "source": [
    "Day 4: Only Floats Write a function called only_floats, which takes two parameters a and b, and returns 2 if both arguments are floats, returns 1 if only one argument is a float, and returns 0 if neither argument is a float. If you pass (12.1, 23) as an argument, your function should return a 1"
   ]
  },
  {
   "cell_type": "code",
   "execution_count": 0,
   "metadata": {
    "application/vnd.databricks.v1+cell": {
     "cellMetadata": {
      "byteLimit": 2048000,
      "rowLimit": 10000
     },
     "inputWidgets": {},
     "nuid": "83ec062b-4ed8-45f0-b687-64e4c833a109",
     "showTitle": false,
     "title": ""
    }
   },
   "outputs": [
    {
     "output_type": "stream",
     "name": "stdout",
     "output_type": "stream",
     "text": [
      "1\n"
     ]
    }
   ],
   "source": [
    "def only_floats(a,b):\n",
    "  if type(a)==float and type(b)==float:\n",
    "    return 2\n",
    "  elif type(a)==float or type(b)==float:\n",
    "    return 1\n",
    "  else:\n",
    "    return 0\n",
    "print(only_floats(12,25.8))"
   ]
  }
 ],
 "metadata": {
  "application/vnd.databricks.v1+notebook": {
   "dashboards": [],
   "environmentMetadata": null,
   "language": "python",
   "notebookMetadata": {
    "pythonIndentUnit": 4
   },
   "notebookName": "Day-1.py",
   "widgets": {}
  }
 },
 "nbformat": 4,
 "nbformat_minor": 0
}
