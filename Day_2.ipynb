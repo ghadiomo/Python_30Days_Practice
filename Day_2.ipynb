{
  "nbformat": 4,
  "nbformat_minor": 0,
  "metadata": {
    "colab": {
      "provenance": []
    },
    "kernelspec": {
      "name": "python3",
      "display_name": "Python 3"
    },
    "language_info": {
      "name": "python"
    }
  },
  "cells": [
    {
      "cell_type": "markdown",
      "source": [
        "Q6: User Name Generator\n",
        "Write a function called user_name that generates a username from the user’s email.\n",
        "The code should ask the user to input an email and the code should return everything\n",
        "before the @ sign as their user name. For example, if someone enters ben@gmail.com,\n",
        "the code should return ben as their user name"
      ],
      "metadata": {
        "id": "MtfvHSPfIXbH"
      }
    },
    {
      "cell_type": "code",
      "execution_count": null,
      "metadata": {
        "colab": {
          "base_uri": "https://localhost:8080/"
        },
        "id": "LSogmIA6ISUk",
        "outputId": "8af3ad53-a6e4-4410-b9f9-e9c6d827e0a9"
      },
      "outputs": [
        {
          "output_type": "stream",
          "name": "stdout",
          "text": [
            "Enter the email address :omkarghadi@gmail.com\n",
            "omkarghadi\n"
          ]
        }
      ],
      "source": [
        "def user_name():\n",
        "  email=input(\"Enter the email address :\")\n",
        "  name=email[:email.index(\"@\")]\n",
        "  print(name)\n",
        "user_name()"
      ]
    },
    {
      "cell_type": "markdown",
      "source": [
        "Q7: A String Range\n",
        "Write a function called string_range that takes a single number and returns a string\n",
        "of its range. The string characters should be separated by dots(.) For example,\n",
        "if you pass 6 as an argument, your function should return ‘0.1.2.3.4.5’.\n",
        "\"\"\""
      ],
      "metadata": {
        "id": "8Fl0vlEmI1WW"
      }
    },
    {
      "cell_type": "code",
      "source": [
        "def string_range():\n",
        "  strr=int(input(\"Enter a Number of your choice :\"))\n",
        "  newlist=[]\n",
        "  for i in range(strr):\n",
        "    newlist.append(str(i))\n",
        "  return \".\".join(newlist)\n",
        "\n",
        "string_range()"
      ],
      "metadata": {
        "colab": {
          "base_uri": "https://localhost:8080/",
          "height": 53
        },
        "id": "KXeUmSj_LdYs",
        "outputId": "f0c83449-5db2-48d7-a898-7faf168cec7e"
      },
      "execution_count": null,
      "outputs": [
        {
          "name": "stdout",
          "output_type": "stream",
          "text": [
            "Enter a Number of your choice :9\n"
          ]
        },
        {
          "output_type": "execute_result",
          "data": {
            "text/plain": [
              "'0.1.2.3.4.5.6.7.8'"
            ],
            "application/vnd.google.colaboratory.intrinsic+json": {
              "type": "string"
            }
          },
          "metadata": {},
          "execution_count": 12
        }
      ]
    },
    {
      "cell_type": "markdown",
      "source": [
        "Q8: Odd and Even\n",
        "Write a function called odd_even that has one parameter and takes a list of numbers\n",
        "as an argument. The function returns the difference between the largest even number\n",
        "in the list and the smallest odd number in the list. For example, if you pass\n",
        "[1,2,4,6] as an argument the function should return 6 -1= 5."
      ],
      "metadata": {
        "id": "yXE2rndnSoqf"
      }
    },
    {
      "cell_type": "code",
      "source": [
        "def odd_even(one):\n",
        "  odd_num=[i for i in one if i%2 == 0]\n",
        "  even_num=[i for i in one if i%2 !=0]\n",
        "  return max(odd_num)- min(even_num)\n",
        "\n",
        "print(odd_even([2,3,4,5,6,7,8]))"
      ],
      "metadata": {
        "colab": {
          "base_uri": "https://localhost:8080/"
        },
        "id": "PbwiMNAbNW2t",
        "outputId": "3d54eb9b-6b0f-477c-c575-7c1993b11c63"
      },
      "execution_count": null,
      "outputs": [
        {
          "output_type": "stream",
          "name": "stdout",
          "text": [
            "5\n"
          ]
        }
      ]
    },
    {
      "cell_type": "markdown",
      "source": [
        "Q9: Biggest Odd Number\n",
        "Create a function called biggest_odd that takes a string of numbers and returns the\n",
        "biggest odd number in the list. For example, if you pass ‘23569’ as an argument,\n",
        "your function should return 9. Use list comprehension.\n"
      ],
      "metadata": {
        "id": "yHP8goRVYEMo"
      }
    },
    {
      "cell_type": "code",
      "source": [
        "def biggest_odd(strr):\n",
        "  odd_number=[int(i) for i in strr if int(i)%2 == 1]\n",
        "  return max(odd_number)\n",
        "print(biggest_odd(\"2359840976\"))"
      ],
      "metadata": {
        "id": "O-RlJYEcYHv_",
        "colab": {
          "base_uri": "https://localhost:8080/"
        },
        "outputId": "85098de6-6807-44ed-bb80-206c45320a7b"
      },
      "execution_count": 7,
      "outputs": [
        {
          "output_type": "stream",
          "name": "stdout",
          "text": [
            "9\n"
          ]
        }
      ]
    },
    {
      "cell_type": "markdown",
      "source": [
        "Q10: Write a function called hide_password that takes no parameters. The function takes an\n",
        " input( a password) from a user and returns a hidden password. For example, if the\n",
        " user enters ‘hello’ as a password the function should return ‘****’ as a password\n",
        " and tell the user that the password is 4 characters long.\n",
        "Extra Challenge: Strings With a Thousand Separator\n",
        "b. Your new company has a list of figures saved in a list. The issue is that these\n",
        "numbers have no separator. The numbers are saved in the following format:\n",
        "[1000000, 2356989, 2354672, 9878098]\n",
        "You have been asked to write a code that will convert each of the numbers in the list\n",
        " into a string. Your code should then add a comma on each number as a thousand\n",
        " separator for readability. When you run your code on the above list, your output\n",
        " should be :\n",
        "['1,000,000', '2,356,989', '2,354,672', '9,878,098']\n",
        "Write a function called convert_numbers that will take one argument, a list of numbers\n",
        "above.\n",
        "\"\"\""
      ],
      "metadata": {
        "id": "H6ZD86pmaNh5"
      }
    },
    {
      "cell_type": "code",
      "source": [
        "def hide_password():\n",
        "  input_pass=input(\"Please Enter the Password :\")\n",
        "  return \"Password is:\"+ \"*\" * len(input_pass)+ \", and Password length is:\" + str(len(input_pass))\n",
        "#hide_password()\n",
        "\n",
        "def convert_numbers():\n",
        "  input_num=list(map(int,input(\"Please enter the nubers\").split()))\n",
        "  return ['{:,.0f}'.format(i) for i in input_num]\n",
        "\n",
        "convert_numbers()"
      ],
      "metadata": {
        "colab": {
          "base_uri": "https://localhost:8080/"
        },
        "id": "lFaPFH3ZaXiw",
        "outputId": "613ffd42-10c1-4bbc-d911-43c493b47fd1"
      },
      "execution_count": 43,
      "outputs": [
        {
          "name": "stdout",
          "output_type": "stream",
          "text": [
            "Please enter the nubers262655 323232 63233\n"
          ]
        },
        {
          "output_type": "execute_result",
          "data": {
            "text/plain": [
              "['262,655', '323,232', '63,233']"
            ]
          },
          "metadata": {},
          "execution_count": 43
        }
      ]
    },
    {
      "cell_type": "markdown",
      "source": [],
      "metadata": {
        "id": "KUGIW6knaKOy"
      }
    },
    {
      "cell_type": "code",
      "source": [],
      "metadata": {
        "colab": {
          "base_uri": "https://localhost:8080/",
          "height": 53
        },
        "id": "LFITlO5ooajJ",
        "outputId": "47762335-d93a-413c-9a4e-c7b5160b42da"
      },
      "execution_count": 28,
      "outputs": [
        {
          "name": "stdout",
          "output_type": "stream",
          "text": [
            "Please Enter the Password :omkar\n"
          ]
        },
        {
          "output_type": "execute_result",
          "data": {
            "text/plain": [
              "'Password is:*****, and Password length is:5'"
            ],
            "application/vnd.google.colaboratory.intrinsic+json": {
              "type": "string"
            }
          },
          "metadata": {},
          "execution_count": 28
        }
      ]
    }
  ]
}