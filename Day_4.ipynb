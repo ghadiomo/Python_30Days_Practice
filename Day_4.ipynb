{
  "nbformat": 4,
  "nbformat_minor": 0,
  "metadata": {
    "colab": {
      "provenance": []
    },
    "kernelspec": {
      "name": "python3",
      "display_name": "Python 3"
    },
    "language_info": {
      "name": "python"
    }
  },
  "cells": [
    {
      "cell_type": "markdown",
      "source": [
        "Q16: Sum the List\n",
        "Write a function called sum_list with one parameter that takes a nested list of\n",
        "integers as an argument and returns the sum of the integers. For example, if you pass\n",
        "[[2, 4, 5, 6], [2, 3, 5, 6]] as an argument your function should return a sum of 33.\n"
      ],
      "metadata": {
        "id": "bHVVlYudERiR"
      }
    },
    {
      "cell_type": "code",
      "execution_count": null,
      "metadata": {
        "colab": {
          "base_uri": "https://localhost:8080/"
        },
        "id": "hTQm4kMrEOZN",
        "outputId": "b48dbfa7-57bc-4f28-8fd0-12f209f0e170"
      },
      "outputs": [
        {
          "output_type": "stream",
          "name": "stdout",
          "text": [
            "34\n"
          ]
        }
      ],
      "source": [
        "def sum_list():\n",
        "  l=[[2,4,5,6],[2,4,5,6]]\n",
        "  allsum=0\n",
        "  for i in l:\n",
        "    allsum=sum(i)+allsum\n",
        "  print(allsum)\n",
        "\n",
        "sum_list()"
      ]
    },
    {
      "cell_type": "markdown",
      "source": [
        "Q17: User Name Generator\n",
        "Write a function called user_name, that creates a username for the user. The function\n",
        "should ask a user to input their name. The function should then reverse the name and\n",
        "attach a randomly issued number between 0 – 9 at the end of the name. The function\n",
        "should return the username."
      ],
      "metadata": {
        "id": "j7syjHfcJKbV"
      }
    },
    {
      "cell_type": "code",
      "source": [
        "import random\n",
        "def user_name():\n",
        "  name=input(\"Enter the ur Name :\")\n",
        "  rev_name=name[::-1]\n",
        "  y=random.randint(0,9)\n",
        "  print(rev_name+str(y))\n",
        "\n",
        "user_name()"
      ],
      "metadata": {
        "colab": {
          "base_uri": "https://localhost:8080/"
        },
        "id": "uH4n4R34JMhV",
        "outputId": "ed974e73-2840-4c5d-a803-a6fb2ac63622"
      },
      "execution_count": null,
      "outputs": [
        {
          "output_type": "stream",
          "name": "stdout",
          "text": [
            "Enter the ur Name :Omkar\n",
            "rakmO5\n"
          ]
        }
      ]
    },
    {
      "cell_type": "markdown",
      "source": [
        "Q18: Any Number of Arguments\n",
        "Write a function called any_number that can receive any number of arguments(integers\n",
        "and floats) and return the average of those integers. If you pass 12, 90, 12, 34 as\n",
        "arguments your function should return 37.0 as average. If you pass 12, 90 your\n",
        "function should return 51.0 as average."
      ],
      "metadata": {
        "id": "0TaCyus5PCb5"
      }
    },
    {
      "cell_type": "code",
      "source": [
        "def any_function():\n",
        "  N=int(input(\"Enter the size of Numbers :\"))\n",
        "  l=[]\n",
        "  for i in range(N):\n",
        "    No=int(input(\"Enter the No's :\"))\n",
        "    l.append(No)\n",
        "  avgg=sum(l)/N\n",
        "  print(\"Average of the all intergers :\",avgg)\n",
        "\n",
        "any_function()"
      ],
      "metadata": {
        "id": "MMtHJQPYSyqw",
        "colab": {
          "base_uri": "https://localhost:8080/"
        },
        "outputId": "a2dc388b-9433-4cb3-b6aa-f74f425c9450"
      },
      "execution_count": 9,
      "outputs": [
        {
          "output_type": "stream",
          "name": "stdout",
          "text": [
            "Enter the size of Numbers :5\n",
            "Enter the No's :3\n",
            "Enter the No's :4\n",
            "Enter the No's :5\n",
            "Enter the No's :9\n",
            "Enter the No's :8\n",
            "Average of the list : 5.8\n"
          ]
        }
      ]
    },
    {
      "cell_type": "markdown",
      "source": [
        "Q19: Words and Elements\n",
        "Write two functions. The first function is called count_words which takes a string of\n",
        "words and counts how many words are in the string.\n",
        "The second function called count_elements takes a string of words and counts how many\n",
        "elements are in the string. Do not count the whitespaces. The first function will\n",
        "return the number of words in a string and the second one will return the number of\n",
        "elements (less whitespace). If you pass ‘I love learning’, the count_words function\n",
        "should return 3 words and count_elements should return 13 elements."
      ],
      "metadata": {
        "id": "itTkuJ3FYlzd"
      }
    },
    {
      "cell_type": "code",
      "source": [
        "def count_words():\n",
        "  strr=input(\"Enter the String :\")\n",
        "  print(len(strr))\n",
        "\n",
        "count_words()"
      ],
      "metadata": {
        "id": "WK8p3WorYtru",
        "colab": {
          "base_uri": "https://localhost:8080/"
        },
        "outputId": "60abcdc0-e91c-4b3a-96ad-c1f9c7e3f3b1"
      },
      "execution_count": 12,
      "outputs": [
        {
          "output_type": "stream",
          "name": "stdout",
          "text": [
            "Enter the String :Omkar\n",
            "5\n"
          ]
        }
      ]
    },
    {
      "cell_type": "code",
      "source": [
        "def count_elements():\n",
        "  strr=input(\"Enter the Words :\")\n",
        "  print(len(strr.split()))\n",
        "\n",
        "count_elements()\n"
      ],
      "metadata": {
        "colab": {
          "base_uri": "https://localhost:8080/"
        },
        "id": "5DbqOpiHxeYA",
        "outputId": "f6efdab0-62a9-4f89-e0ca-ff490d418c58"
      },
      "execution_count": 11,
      "outputs": [
        {
          "output_type": "stream",
          "name": "stdout",
          "text": [
            "Enter the Words :Omkar ghadi\n",
            "2\n"
          ]
        }
      ]
    },
    {
      "cell_type": "markdown",
      "source": [
        "Q20: Capitalize First Letter\n",
        "Write a function called capitalize. This function takes a string as an argument and\n",
        "capitalizes the first letter of each word. For example, ‘i like learning’ becomes\n",
        "‘I Like Learning"
      ],
      "metadata": {
        "id": "Ozh1MWEIYz2e"
      }
    },
    {
      "cell_type": "code",
      "source": [
        "def capitalise():\n",
        "  strr=input(\"ENter the Stringm :\")\n",
        "  word_capi=[i.capitalize() for i in strr.split()]\n",
        "  word_join=' '.join(word_capi)\n",
        "  print(word_join)\n",
        "capitalise()"
      ],
      "metadata": {
        "id": "dDRh4OcwY2ht",
        "colab": {
          "base_uri": "https://localhost:8080/"
        },
        "outputId": "1f7a8389-2280-424a-ad4e-cb4792ef984b"
      },
      "execution_count": 18,
      "outputs": [
        {
          "output_type": "stream",
          "name": "stdout",
          "text": [
            "ENter the Stringm :omkar ghadi\n",
            "Omkar Ghadi\n"
          ]
        }
      ]
    }
  ]
}