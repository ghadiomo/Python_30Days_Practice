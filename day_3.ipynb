{
  "nbformat": 4,
  "nbformat_minor": 0,
  "metadata": {
    "colab": {
      "provenance": []
    },
    "kernelspec": {
      "name": "python3",
      "display_name": "Python 3"
    },
    "language_info": {
      "name": "python"
    }
  },
  "cells": [
    {
      "cell_type": "markdown",
      "source": [
        "Q11: Are They Equal?\n",
        "Write a function called equal_strings. The function takes two strings as arguments\n",
        "and compares them. If the strings are equal (if they have the same characters and\n",
        "have equal length), it should return True, if they are not, it should return False.\n",
        "For example, ‘love’ and ‘evol’ should return True."
      ],
      "metadata": {
        "id": "YDYdVZ_Yepmm"
      }
    },
    {
      "cell_type": "code",
      "source": [
        "def equal_strings(str1,str2):\n",
        "  if (len(str1)=len(str2) and sorted(str1)=sorted(str2)):\n",
        "    return True\n",
        "  else:\n",
        "    return False\n",
        "\n",
        "str1=input(\"Enter the 1st string :\")\n",
        "str2=input(\"Enter the 2nd string :\")\n",
        "equal_strings(str1,str2)\n"
      ],
      "metadata": {
        "colab": {
          "base_uri": "https://localhost:8080/"
        },
        "id": "1ne-gZkEerTl",
        "outputId": "570e1335-e3c0-4a37-8542-c7cb79b46b62"
      },
      "execution_count": null,
      "outputs": [
        {
          "name": "stdout",
          "output_type": "stream",
          "text": [
            "Enter the 1st string :love\n",
            "Enter the 2nd string :leov\n"
          ]
        },
        {
          "output_type": "execute_result",
          "data": {
            "text/plain": [
              "True"
            ]
          },
          "metadata": {},
          "execution_count": 6
        }
      ]
    },
    {
      "cell_type": "markdown",
      "source": [
        "Q12: Write a function called count_dots. This function takes a string separated by dots as\n",
        " a parameter and counts how many dots are in the string. For example, ‘h.e.l.p.’\n",
        " should return 4 dots, and ‘he.lp.’ should return 2 dots.\n",
        "Extra Challenge: Your Age in Minutes\n",
        "b. Write a function called age_in_minutes that tells a user how old they are in\n",
        "minutes. Your code should ask the user to enter their year of birth, and it should\n",
        "return their age in minutes (by subtracting their year of birth to the current year).\n",
        " Here are things to look out for:\n",
        "a. The user can only input a 4 digit year of birth. For example, 1930 is a valid year\n",
        ". However, entering any number longer or less than 4 digits long should render input\n",
        "invalid. Notify the user to input a four digits number.\n",
        "b. If a user enters a year before 1900, your code should tell the user that input is\n",
        "invalid. If the user enters the year after the current year, the code should tell the\n",
        " user, to input a valid year.\n",
        "The code should run until the user inputs a valid year. Your function should return\n",
        "the user's age in minutes. For example, if someone enters 1930, as their year of birth\n",
        "your function should return:\n",
        "You are 48,355,200 minutes old."
      ],
      "metadata": {
        "id": "ARTA8g59mRP2"
      }
    },
    {
      "cell_type": "code",
      "source": [
        "def count_dots(str1):\n",
        "  count=0\n",
        "  for i in str1:\n",
        "    if i ==\".\":\n",
        "      count+=1\n",
        "  return count\n",
        "\n",
        "str1=input(\"Enter the string :\")\n",
        "count_dots(str1)"
      ],
      "metadata": {
        "colab": {
          "base_uri": "https://localhost:8080/"
        },
        "id": "VXr1WhV_lmV_",
        "outputId": "3c93f101-4dd0-45ed-bd72-96b80b9d8b58"
      },
      "execution_count": null,
      "outputs": [
        {
          "name": "stdout",
          "output_type": "stream",
          "text": [
            "Enter the string :Elo.n.Mu.sk.\n"
          ]
        },
        {
          "output_type": "execute_result",
          "data": {
            "text/plain": [
              "4"
            ]
          },
          "metadata": {},
          "execution_count": 44
        }
      ]
    },
    {
      "cell_type": "markdown",
      "source": [],
      "metadata": {
        "id": "JZTyEUSVdi5j"
      }
    },
    {
      "cell_type": "code",
      "source": [
        "from datetime import date\n",
        "def age_in_minutes(birthyear):\n",
        "  current_year=date.today().year\n",
        "  if len(str(birthyear))==4  and birthyear>=1900 and current_year!=birthyear:\n",
        "    minutes=(current_year-birthyear)*365*24*60\n",
        "    print(\"your alive from\",minutes,\"minutes\")\n",
        "  else:\n",
        "    print(\"Enter the valid year\")\n",
        "\n",
        "birthyear=int(input(\"Enter Your Year of Birth :\"))\n",
        "age_in_minutes(birthyear)"
      ],
      "metadata": {
        "colab": {
          "base_uri": "https://localhost:8080/"
        },
        "id": "vtgKl5g_vzts",
        "outputId": "a21f9730-cd4b-4b70-cd6c-8e0733188057"
      },
      "execution_count": null,
      "outputs": [
        {
          "output_type": "stream",
          "name": "stdout",
          "text": [
            "Enter Your Year of Birth :1995\n",
            "your alive from 15242400 minutes\n"
          ]
        }
      ]
    },
    {
      "cell_type": "markdown",
      "source": [
        "Q13: Pay Your Tax\n",
        "Write a function called your_vat. The function takes no parameter. The function asks\n",
        "the user to input the price of an item and VAT (vat should be a percentage). The\n",
        "function should return the price of the item plus VAT. If the price is 220 and, VAT\n",
        "is 15% your code should return a vat inclusive price of 253. Make sure that your\n",
        "code can handle ValueError. Ensure the code runs until valid numbers are entered.\n",
        "(hint: Your code should include a while loop)."
      ],
      "metadata": {
        "id": "0-xYiKGv3UFU"
      }
    },
    {
      "cell_type": "code",
      "source": [
        "def your_vat():\n",
        "  product_value=float(input(\"Enther the product price :\"))\n",
        "  product_vat=float(input(\"Enther the product vat % :\"))\n",
        "  while True:\n",
        "    try:\n",
        "      if product_value>0 and product_vat>0:\n",
        "        product_price=product_value+(product_value*product_vat)/100\n",
        "        print(\"Price of Product After TAx :\",product_price)\n",
        "        break\n",
        "      else:\n",
        "        raise ValueError\n",
        "    except ValueError:\n",
        "      return \"Please enter the valid inputs\"\n",
        "\n",
        "your_vat()"
      ],
      "metadata": {
        "colab": {
          "base_uri": "https://localhost:8080/"
        },
        "id": "ISQkvJzv3Yyr",
        "outputId": "37b2f0e0-1346-436e-9c3b-0cc57de0f986"
      },
      "execution_count": null,
      "outputs": [
        {
          "output_type": "stream",
          "name": "stdout",
          "text": [
            "Enther the product price :100\n",
            "Enther the product vat % :15\n",
            "Price of Product After TAx : 115.0\n"
          ]
        }
      ]
    },
    {
      "cell_type": "markdown",
      "source": [
        "Q14: Flatten the List\n",
        "Write a function called flat_list that takes one argument, a nested list. The function converts the nested list into a one-dimension list. For example [[2,4,5,6]] should return [2,4,5,6].\n",
        "\n",
        "Extra Challenge: Teacher’s Salary\n",
        "b. A school has asked you to write a program that will calculate teachers' salaries.The program should ask the user to enter the teacher’s name, the number of periods taught in a month, and the rate per period. The monthly salary is calculated by multiplying the number of periods by the monthly rate. The current monthly rate per period is $20.\n",
        "\n",
        "If a teacher has more than 100 periods in a month, everything above 100 is overtime. Overtime is $25 per period. For example, if a teacher has taught 105\n",
        "periods, their monthly gross salary should be 2,125. Write a function called\n",
        "your_salary that calculates a teacher’s gross salary. The function should return theteacher’s name, periods taught, and gross salary. Here is how you should format your.\n",
        "\n",
        "output:\n",
        "\n",
        "Teacher: John Kelly,\n",
        "\n",
        "Periods: 105\n",
        "\n",
        "Gross salary:2,125"
      ],
      "metadata": {
        "id": "pP5kENvC8GCy"
      }
    },
    {
      "cell_type": "code",
      "source": [
        "def flat_list(lst):\n",
        "  single_list=lst[0]\n",
        "  return single_list\n",
        "flat_list([[1,2,4,5,6]])"
      ],
      "metadata": {
        "id": "JQC0odT68PrJ",
        "colab": {
          "base_uri": "https://localhost:8080/"
        },
        "outputId": "eb3757af-6e52-4d9f-eff9-b999083e0dcb"
      },
      "execution_count": null,
      "outputs": [
        {
          "output_type": "execute_result",
          "data": {
            "text/plain": [
              "[1, 2, 4, 5, 6]"
            ]
          },
          "metadata": {},
          "execution_count": 3
        }
      ]
    },
    {
      "cell_type": "code",
      "source": [
        "def your_salary():\n",
        "  name=input(\"Enter the Teachers name :\")\n",
        "  noPeriod=int(input(\"Enter the No of Periods tought/Month :\"))\n",
        "  ratePeriod=int(input(\"Enther the rate/Periods :\"))\n",
        "\n",
        "  if noPeriod<100:\n",
        "    MonthSalary=noPeriod*ratePeriod\n",
        "  else:\n",
        "    MonthSalary=2000+(noPeriod-100)*25\n",
        "  return MonthSalary\n",
        "\n",
        "your_salary()"
      ],
      "metadata": {
        "colab": {
          "base_uri": "https://localhost:8080/"
        },
        "id": "GBrAl4u212JG",
        "outputId": "40080976-c40c-47f6-cfda-4c9901e0c98d"
      },
      "execution_count": null,
      "outputs": [
        {
          "name": "stdout",
          "output_type": "stream",
          "text": [
            "Enter the Teachers name :105\n",
            "Enter the No of Periods tought/Month :105\n",
            "Enther the rate/Periods :20\n"
          ]
        },
        {
          "output_type": "execute_result",
          "data": {
            "text/plain": [
              "2125"
            ]
          },
          "metadata": {},
          "execution_count": 11
        }
      ]
    },
    {
      "cell_type": "markdown",
      "source": [
        "Q15: Same in Reverse\n",
        "Write a function called same_in_reverse that takes a string and checks if the string\n",
        "reads the same in reverse. If it is the same, the code should return True if not, it\n",
        "should return False. For example, ‘dad’ should return True, because it reads the same\n",
        "in reverse."
      ],
      "metadata": {
        "id": "kPwpVqTZCGtz"
      }
    },
    {
      "cell_type": "code",
      "source": [
        "def same_in_reverse():\n",
        "  stt=input(\"Enter the String :\")\n",
        "  rev=stt[::-1]\n",
        "  if stt==rev:\n",
        "    return True\n",
        "  else:\n",
        "    return False\n",
        "same_in_reverse()\n"
      ],
      "metadata": {
        "colab": {
          "base_uri": "https://localhost:8080/"
        },
        "id": "cdzVbZHey8WL",
        "outputId": "2c23d2b3-5355-40c2-9424-82adf2148cbd"
      },
      "execution_count": 5,
      "outputs": [
        {
          "name": "stdout",
          "output_type": "stream",
          "text": [
            "Enter the String :papap\n"
          ]
        },
        {
          "output_type": "execute_result",
          "data": {
            "text/plain": [
              "True"
            ]
          },
          "metadata": {},
          "execution_count": 5
        }
      ]
    }
  ]
}